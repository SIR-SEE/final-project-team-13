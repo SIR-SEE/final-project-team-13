{
 "cells": [
  {
   "cell_type": "code",
   "execution_count": 235,
   "metadata": {},
   "outputs": [],
   "source": [
    "from scipy.integrate import odeint\n",
    "import numpy as np\n",
    "import matplotlib.pyplot as plt\n",
    "import math\n"
   ]
  },
  {
   "cell_type": "markdown",
   "metadata": {},
   "source": [
    "# Let’s run the basic SIR model"
   ]
  },
  {
   "cell_type": "code",
   "execution_count": 236,
   "metadata": {},
   "outputs": [],
   "source": [
    "# describe the model\n",
    "def deriv(y, t, N, beta, k, delta, alpha, rho):\n",
    "    S, E, I, R, D, In, Ink, Inm = y\n",
    "#    def alpha(t):\n",
    "#        return S*I/N+alpha\n",
    "    dSdt = -beta(t) * S * I / N\n",
    "    dEdt = beta(t) * S * I / N -delta * E\n",
    "    dIdt = delta * E - (1-alpha)* k * I -alpha*rho*I #\n",
    "    dRdt = (1-alpha)*k * I\n",
    "    dDdt = rho*I*alpha\n",
    "    dIndt = dIdt * 0.01\n",
    "    dInkdt = dIndt * 0.288\n",
    "    dInmdt = dIndt * 0.722\n",
    "    return dSdt, dEdt, dIdt, dRdt, dDdt, dIndt, dInkdt, dInmdt\n",
    "\n",
    "# We chose to use relevant data over the spreading of the decease to make a fundamental ond objective model.\n",
    "\n",
    "# We have split Recovered into two different curves, one for persons who have recovered, R and one for people who have died, D.\n",
    "# To do that we used the percent for how many people that have died because of Covid in Sweden which was approximately 2% \n",
    "# according to Folkhälsomyndigheten by the time we extracted the data.\n",
    "\n",
    "#We added a group In, intensive care and used the percent 0.01 of all people who have been sick according to Folkhälsomyndigheten\n",
    "#Then we split this group In into two groups, women and men and we used the percent here as well to show the difference.\n",
    "\n",
    "#We took the data for intensive care from this website https://experience.arcgis.com/experience/2dc63e26f509468f896ec69476b0dab3 \n",
    "#The data was downloaded on the 12 of January which might explain any slight differences to current data.\n",
    "\n",
    "\n"
   ]
  },
  {
   "cell_type": "code",
   "execution_count": 237,
   "metadata": {},
   "outputs": [],
   "source": [
    "# describe the parameters\n",
    "N =  10000000              # Approximately Swedens population\n",
    "k=1/7 #One week to get well\n",
    "delta = 1/5 #Incubation time\n",
    "\n",
    "R_0_start, Rvary, x0, R_0_end = 2.5, 0.5, 90, 0.5  #R_0 strenght of lockdown, Rvary: R_0 changes at a rate of 0.5 \n",
    "\n",
    "def logistic_R_0(t):\n",
    "    return (R_0_start-R_0_end) / (1 + np.exp(-Rvary*(-t+x0))) + R_0_end \n",
    "\n",
    "def beta(t):\n",
    "    return logistic_R_0(t) * k\n",
    "\n",
    "alpha = 0.02 #Death rate of 2 percent\n",
    "rho = 1/10 #We estimate that a person dies after 10 days.\n",
    "S0, E0, I0, R0, D0, In0, Ink0, Inm0 = N-1, 1, 0, 0, 0, 0, 0, 0  # initial conditions: one infected, rest susceptible\n"
   ]
  },
  {
   "cell_type": "code",
   "execution_count": 238,
   "metadata": {},
   "outputs": [],
   "source": [
    "t = np.linspace(0, 300, 1000) # Grid of time points (in days)\n",
    "y0 = S0, E0, I0, R0, D0, In0, Ink0, Inm0 # Initial conditions vector\n",
    "\n",
    "# Integrate the SIR equations over the time grid, t.\n",
    "ret = odeint(deriv, y0, t, args=(N, beta, k, delta, alpha, rho))\n",
    "S, E, I, R, D, In, Ink, Inm = ret.T\n",
    "\n",
    "R0_over_time = [logistic_R_0(i) for i in range(len(t))]  #To plot R_0 over time we get function values\n"
   ]
  },
  {
   "cell_type": "code",
   "execution_count": null,
   "metadata": {},
   "outputs": [],
   "source": []
  },
  {
   "cell_type": "code",
   "execution_count": 239,
   "metadata": {},
   "outputs": [],
   "source": [
    "def plotsir(t, S, E, I, R, D, R0_over_time):\n",
    "  f, ax = plt.subplots(1,1,figsize=(10,4))\n",
    "  ax.plot(t, S, 'b', alpha=0.7, linewidth=2, label='Susceptible')\n",
    "  ax.plot(t, E, 'y', alpha=0.7, linewidth=2, label='Exposed')\n",
    "  ax.plot(t, I, 'r', alpha=0.7, linewidth=2, label='Infected')\n",
    "  ax.plot(t, R, 'g', alpha=0.7, linewidth=2, label='Recovered')\n",
    "  ax.plot(t, D, 'k', alpha=0.7, linewidth=2, label='Deceased')\n",
    " \n",
    "\n",
    "\n",
    "\n",
    "  ax.set_xlabel('Time (days)')\n",
    "\n",
    "  ax.yaxis.set_tick_params(length=0)\n",
    "  ax.xaxis.set_tick_params(length=0)\n",
    "  ax.grid(b=True, which='major', c='w', lw=2, ls='-')\n",
    "  legend = ax.legend()\n",
    "  legend.get_frame().set_alpha(0.5)\n",
    "  for spine in ('top', 'right', 'bottom', 'left'):\n",
    "      ax.spines[spine].set_visible(False)\n",
    "  plt.savefig(\"plot.png\")  \n",
    "  plt.show();\n",
    "    \n"
   ]
  },
  {
   "cell_type": "code",
   "execution_count": 240,
   "metadata": {},
   "outputs": [
    {
     "name": "stdout",
     "output_type": "stream",
     "text": [
      "1\n"
     ]
    }
   ],
   "source": [
    "def plotsir2(t, In, Ink, Inm):\n",
    "  f, ax = plt.subplots(1,1,figsize=(10,4))\n",
    " \n",
    "  ax.plot(t, In, 'k', alpha=0.7, linewidth=2, label='Intensive care')\n",
    "  ax.plot(t, Ink, 'c', alpha=0.7, linewidth=2, label='Intensive care women')\n",
    "  ax.plot(t, Inm, 'y', alpha=0.7, linewidth=2, label='Intensive care men')\n",
    "\n",
    "\n",
    "\n",
    "  ax.set_xlabel('Time (days)')\n",
    "\n",
    "  ax.yaxis.set_tick_params(length=0)\n",
    "  ax.xaxis.set_tick_params(length=0)\n",
    "  ax.grid(b=True, which='major', c='w', lw=2, ls='-')\n",
    "  legend = ax.legend()\n",
    "  legend.get_frame().set_alpha(0.5)\n",
    "  for spine in ('top', 'right', 'bottom', 'left'):\n",
    "      ax.spines[spine].set_visible(False)\n",
    "  plt.show();\n",
    "print(B)"
   ]
  },
  {
   "cell_type": "markdown",
   "metadata": {},
   "source": [
    "plot the graph"
   ]
  },
  {
   "cell_type": "code",
   "execution_count": 241,
   "metadata": {},
   "outputs": [
    {
     "ename": "NameError",
     "evalue": "name 'RO_over_time' is not defined",
     "output_type": "error",
     "traceback": [
      "\u001b[1;31m---------------------------------------------------------------------------\u001b[0m",
      "\u001b[1;31mNameError\u001b[0m                                 Traceback (most recent call last)",
      "\u001b[1;32m<ipython-input-241-e8084a900e28>\u001b[0m in \u001b[0;36m<module>\u001b[1;34m\u001b[0m\n\u001b[1;32m----> 1\u001b[1;33m \u001b[0mplotsir\u001b[0m\u001b[1;33m(\u001b[0m\u001b[0mt\u001b[0m\u001b[1;33m,\u001b[0m \u001b[0mS\u001b[0m\u001b[1;33m,\u001b[0m \u001b[0mE\u001b[0m\u001b[1;33m,\u001b[0m \u001b[0mI\u001b[0m\u001b[1;33m,\u001b[0m \u001b[0mR\u001b[0m\u001b[1;33m,\u001b[0m \u001b[0mD\u001b[0m\u001b[1;33m,\u001b[0m \u001b[0mRO_over_time\u001b[0m\u001b[1;33m)\u001b[0m\u001b[1;33m\u001b[0m\u001b[1;33m\u001b[0m\u001b[0m\n\u001b[0m\u001b[0;32m      2\u001b[0m \u001b[0mplotsir2\u001b[0m\u001b[1;33m(\u001b[0m\u001b[0mt\u001b[0m\u001b[1;33m,\u001b[0m \u001b[0mIn\u001b[0m\u001b[1;33m,\u001b[0m \u001b[0mInk\u001b[0m\u001b[1;33m,\u001b[0m \u001b[0mInm\u001b[0m\u001b[1;33m)\u001b[0m\u001b[1;33m\u001b[0m\u001b[1;33m\u001b[0m\u001b[0m\n\u001b[0;32m      3\u001b[0m \u001b[1;33m\u001b[0m\u001b[0m\n\u001b[0;32m      4\u001b[0m \u001b[1;31m# When we read about different\u001b[0m\u001b[1;33m\u001b[0m\u001b[1;33m\u001b[0m\u001b[1;33m\u001b[0m\u001b[0m\n\u001b[0;32m      5\u001b[0m \u001b[1;31m# data on Folkhälsomyndigheten we found it intresting that it was a big difference between\u001b[0m\u001b[1;33m\u001b[0m\u001b[1;33m\u001b[0m\u001b[1;33m\u001b[0m\u001b[0m\n",
      "\u001b[1;31mNameError\u001b[0m: name 'RO_over_time' is not defined"
     ]
    }
   ],
   "source": [
    "\n",
    "plotsir(t, S, E, I, R, D, RO_over_time)\n",
    "plotsir2(t, In, Ink, Inm)\n",
    "\n",
    "# When we read about different\n",
    "# data on Folkhälsomyndigheten we found it intresting that it was a big difference between \n",
    "# women and men, 72% men and 28% women, who hade been intensive cared so whe chose to show this in a separate graph. \n",
    "\n"
   ]
  },
  {
   "cell_type": "code",
   "execution_count": null,
   "metadata": {},
   "outputs": [],
   "source": []
  }
 ],
 "metadata": {
  "kernelspec": {
   "display_name": "Python 3",
   "language": "python",
   "name": "python3"
  },
  "language_info": {
   "codemirror_mode": {
    "name": "ipython",
    "version": 3
   },
   "file_extension": ".py",
   "mimetype": "text/x-python",
   "name": "python",
   "nbconvert_exporter": "python",
   "pygments_lexer": "ipython3",
   "version": "3.8.3"
  },
  "varInspector": {
   "cols": {
    "lenName": 16,
    "lenType": 16,
    "lenVar": 40
   },
   "kernels_config": {
    "python": {
     "delete_cmd_postfix": "",
     "delete_cmd_prefix": "del ",
     "library": "var_list.py",
     "varRefreshCmd": "print(var_dic_list())"
    },
    "r": {
     "delete_cmd_postfix": ") ",
     "delete_cmd_prefix": "rm(",
     "library": "var_list.r",
     "varRefreshCmd": "cat(var_dic_list()) "
    }
   },
   "types_to_exclude": [
    "module",
    "function",
    "builtin_function_or_method",
    "instance",
    "_Feature"
   ],
   "window_display": false
  }
 },
 "nbformat": 4,
 "nbformat_minor": 4
}
